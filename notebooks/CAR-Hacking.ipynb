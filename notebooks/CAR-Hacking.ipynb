{
 "cells": [
  {
   "cell_type": "code",
   "execution_count": 1,
   "metadata": {},
   "outputs": [
    {
     "data": {
      "text/plain": [
       "'c:\\\\Users\\\\rober\\\\GitHub\\\\CAN-Graph\\\\notebooks'"
      ]
     },
     "execution_count": 1,
     "metadata": {},
     "output_type": "execute_result"
    }
   ],
   "source": [
    "import numpy as np # Successfully installed numpy-1.23.5\n",
    "import pandas as pd # Successfully installed pandas-1.3.5\n",
    "import matplotlib.pyplot as plt\n",
    "import seaborn as sns\n",
    "import os\n",
    "import networkx as nx\n",
    "\n",
    "import torch\n",
    "import torch.nn.functional as F\n",
    "#from torch_geometric.nn import GCNConv\n",
    "# from torch_geometric.data import Data\n",
    "# the temporal package is not available TODO: find what the issue is\n",
    "# from torch_geometric_temporal.nn.recurrent import A3TGCN2 # torch-geometric-temporal 0.54.0 requires pandas<=1.3.5, but you have pandas 2.2.3 which is incompatible.\n",
    "#from torch_geometric_temporal.signal import temporal_signal_split\n",
    "# import \n",
    "# Microsoft Visual C++ 14.0 or greater is required. Get it with \"Microsoft C++ Build Tools\": https://visualstudio.microsoft.com/visual-cpp-build-tools/\n",
    "# from stellargraph import StellarGraph\n",
    "# import custom functions from utils.py\n",
    "# from utils import *\n",
    "os.getcwd() # double check current working directory"
   ]
  },
  {
   "cell_type": "code",
   "execution_count": 24,
   "metadata": {},
   "outputs": [],
   "source": [
    "# .. goes up one level in directory\n",
    "path = r'../datasets/Car-Hacking Dataset/Fuzzy_dataset.csv'\n",
    "\n",
    "df = pd.read_csv(path)\n",
    "df.columns = ['Timestamp', 'CAN ID','DLC','Data1','Data2','Data3','Data4','Data5','Data6','Data7','Data8', 'label'] "
   ]
  },
  {
   "cell_type": "code",
   "execution_count": 25,
   "metadata": {},
   "outputs": [
    {
     "data": {
      "text/html": [
       "<div>\n",
       "<style scoped>\n",
       "    .dataframe tbody tr th:only-of-type {\n",
       "        vertical-align: middle;\n",
       "    }\n",
       "\n",
       "    .dataframe tbody tr th {\n",
       "        vertical-align: top;\n",
       "    }\n",
       "\n",
       "    .dataframe thead th {\n",
       "        text-align: right;\n",
       "    }\n",
       "</style>\n",
       "<table border=\"1\" class=\"dataframe\">\n",
       "  <thead>\n",
       "    <tr style=\"text-align: right;\">\n",
       "      <th></th>\n",
       "      <th>Timestamp</th>\n",
       "      <th>CAN ID</th>\n",
       "      <th>DLC</th>\n",
       "      <th>Data1</th>\n",
       "      <th>Data2</th>\n",
       "      <th>Data3</th>\n",
       "      <th>Data4</th>\n",
       "      <th>Data5</th>\n",
       "      <th>Data6</th>\n",
       "      <th>Data7</th>\n",
       "      <th>Data8</th>\n",
       "      <th>label</th>\n",
       "    </tr>\n",
       "  </thead>\n",
       "  <tbody>\n",
       "    <tr>\n",
       "      <th>0</th>\n",
       "      <td>1.478196e+09</td>\n",
       "      <td>02b0</td>\n",
       "      <td>5</td>\n",
       "      <td>ff</td>\n",
       "      <td>7f</td>\n",
       "      <td>00</td>\n",
       "      <td>05</td>\n",
       "      <td>49</td>\n",
       "      <td>R</td>\n",
       "      <td>NaN</td>\n",
       "      <td>NaN</td>\n",
       "      <td>NaN</td>\n",
       "    </tr>\n",
       "    <tr>\n",
       "      <th>1</th>\n",
       "      <td>1.478196e+09</td>\n",
       "      <td>0002</td>\n",
       "      <td>8</td>\n",
       "      <td>00</td>\n",
       "      <td>00</td>\n",
       "      <td>00</td>\n",
       "      <td>00</td>\n",
       "      <td>00</td>\n",
       "      <td>01</td>\n",
       "      <td>07</td>\n",
       "      <td>15</td>\n",
       "      <td>R</td>\n",
       "    </tr>\n",
       "    <tr>\n",
       "      <th>2</th>\n",
       "      <td>1.478196e+09</td>\n",
       "      <td>0153</td>\n",
       "      <td>8</td>\n",
       "      <td>00</td>\n",
       "      <td>21</td>\n",
       "      <td>10</td>\n",
       "      <td>ff</td>\n",
       "      <td>00</td>\n",
       "      <td>ff</td>\n",
       "      <td>00</td>\n",
       "      <td>00</td>\n",
       "      <td>R</td>\n",
       "    </tr>\n",
       "    <tr>\n",
       "      <th>3</th>\n",
       "      <td>1.478196e+09</td>\n",
       "      <td>0130</td>\n",
       "      <td>8</td>\n",
       "      <td>19</td>\n",
       "      <td>80</td>\n",
       "      <td>00</td>\n",
       "      <td>ff</td>\n",
       "      <td>fe</td>\n",
       "      <td>7f</td>\n",
       "      <td>07</td>\n",
       "      <td>60</td>\n",
       "      <td>R</td>\n",
       "    </tr>\n",
       "    <tr>\n",
       "      <th>4</th>\n",
       "      <td>1.478196e+09</td>\n",
       "      <td>0131</td>\n",
       "      <td>8</td>\n",
       "      <td>17</td>\n",
       "      <td>80</td>\n",
       "      <td>00</td>\n",
       "      <td>00</td>\n",
       "      <td>65</td>\n",
       "      <td>7f</td>\n",
       "      <td>07</td>\n",
       "      <td>9f</td>\n",
       "      <td>R</td>\n",
       "    </tr>\n",
       "    <tr>\n",
       "      <th>...</th>\n",
       "      <td>...</td>\n",
       "      <td>...</td>\n",
       "      <td>...</td>\n",
       "      <td>...</td>\n",
       "      <td>...</td>\n",
       "      <td>...</td>\n",
       "      <td>...</td>\n",
       "      <td>...</td>\n",
       "      <td>...</td>\n",
       "      <td>...</td>\n",
       "      <td>...</td>\n",
       "      <td>...</td>\n",
       "    </tr>\n",
       "    <tr>\n",
       "      <th>3838854</th>\n",
       "      <td>1.478201e+09</td>\n",
       "      <td>018f</td>\n",
       "      <td>8</td>\n",
       "      <td>fe</td>\n",
       "      <td>59</td>\n",
       "      <td>00</td>\n",
       "      <td>00</td>\n",
       "      <td>00</td>\n",
       "      <td>41</td>\n",
       "      <td>00</td>\n",
       "      <td>00</td>\n",
       "      <td>R</td>\n",
       "    </tr>\n",
       "    <tr>\n",
       "      <th>3838855</th>\n",
       "      <td>1.478201e+09</td>\n",
       "      <td>0260</td>\n",
       "      <td>8</td>\n",
       "      <td>18</td>\n",
       "      <td>21</td>\n",
       "      <td>21</td>\n",
       "      <td>30</td>\n",
       "      <td>08</td>\n",
       "      <td>8f</td>\n",
       "      <td>6d</td>\n",
       "      <td>19</td>\n",
       "      <td>R</td>\n",
       "    </tr>\n",
       "    <tr>\n",
       "      <th>3838856</th>\n",
       "      <td>1.478201e+09</td>\n",
       "      <td>02a0</td>\n",
       "      <td>8</td>\n",
       "      <td>24</td>\n",
       "      <td>00</td>\n",
       "      <td>9a</td>\n",
       "      <td>1d</td>\n",
       "      <td>97</td>\n",
       "      <td>02</td>\n",
       "      <td>bd</td>\n",
       "      <td>00</td>\n",
       "      <td>R</td>\n",
       "    </tr>\n",
       "    <tr>\n",
       "      <th>3838857</th>\n",
       "      <td>1.478201e+09</td>\n",
       "      <td>0329</td>\n",
       "      <td>8</td>\n",
       "      <td>dc</td>\n",
       "      <td>b7</td>\n",
       "      <td>7f</td>\n",
       "      <td>14</td>\n",
       "      <td>11</td>\n",
       "      <td>20</td>\n",
       "      <td>00</td>\n",
       "      <td>14</td>\n",
       "      <td>R</td>\n",
       "    </tr>\n",
       "    <tr>\n",
       "      <th>3838858</th>\n",
       "      <td>1.478201e+09</td>\n",
       "      <td>0545</td>\n",
       "      <td>8</td>\n",
       "      <td>d8</td>\n",
       "      <td>00</td>\n",
       "      <td>00</td>\n",
       "      <td>8b</td>\n",
       "      <td>00</td>\n",
       "      <td>00</td>\n",
       "      <td>00</td>\n",
       "      <td>00</td>\n",
       "      <td>R</td>\n",
       "    </tr>\n",
       "  </tbody>\n",
       "</table>\n",
       "<p>3838859 rows × 12 columns</p>\n",
       "</div>"
      ],
      "text/plain": [
       "            Timestamp CAN ID  DLC Data1 Data2 Data3 Data4 Data5 Data6 Data7  \\\n",
       "0        1.478196e+09   02b0    5    ff    7f    00    05    49     R   NaN   \n",
       "1        1.478196e+09   0002    8    00    00    00    00    00    01    07   \n",
       "2        1.478196e+09   0153    8    00    21    10    ff    00    ff    00   \n",
       "3        1.478196e+09   0130    8    19    80    00    ff    fe    7f    07   \n",
       "4        1.478196e+09   0131    8    17    80    00    00    65    7f    07   \n",
       "...               ...    ...  ...   ...   ...   ...   ...   ...   ...   ...   \n",
       "3838854  1.478201e+09   018f    8    fe    59    00    00    00    41    00   \n",
       "3838855  1.478201e+09   0260    8    18    21    21    30    08    8f    6d   \n",
       "3838856  1.478201e+09   02a0    8    24    00    9a    1d    97    02    bd   \n",
       "3838857  1.478201e+09   0329    8    dc    b7    7f    14    11    20    00   \n",
       "3838858  1.478201e+09   0545    8    d8    00    00    8b    00    00    00   \n",
       "\n",
       "        Data8 label  \n",
       "0         NaN   NaN  \n",
       "1          15     R  \n",
       "2          00     R  \n",
       "3          60     R  \n",
       "4          9f     R  \n",
       "...       ...   ...  \n",
       "3838854    00     R  \n",
       "3838855    19     R  \n",
       "3838856    00     R  \n",
       "3838857    14     R  \n",
       "3838858    00     R  \n",
       "\n",
       "[3838859 rows x 12 columns]"
      ]
     },
     "execution_count": 25,
     "metadata": {},
     "output_type": "execute_result"
    }
   ],
   "source": [
    "df"
   ]
  },
  {
   "cell_type": "code",
   "execution_count": 26,
   "metadata": {},
   "outputs": [
    {
     "data": {
      "text/plain": [
       "label\n",
       "R    3259176\n",
       "T     491847\n",
       "Name: count, dtype: int64"
      ]
     },
     "execution_count": 26,
     "metadata": {},
     "output_type": "execute_result"
    }
   ],
   "source": [
    "df['label'].value_counts()  "
   ]
  },
  {
   "cell_type": "code",
   "execution_count": null,
   "metadata": {},
   "outputs": [],
   "source": [
    "'''\n",
    "Temporal graph dataset: a graph that changes over time\n",
    "Graph type: Homogeneous graph\n",
    "Nodes: CAN ID\n",
    "Edges: The next CAN ID in the sequence\n",
    "Node Features (optional): The data in the CAN ID\n",
    "\n",
    "Steps:\n",
    "1. identify node properties\n",
    "2. Edges: How to connect nodes?\n",
    "3. Extract labels\n",
    "\n",
    "Convert to pytorch geometric format\n",
    "One graph to another graph: 200 messages to 1 graph\n",
    "\n",
    "There is also pytorch geometric temporal package\n",
    "\n",
    "# build a baseline model RF, SVM, etc\n",
    "\n",
    "# fraud datasets may have incorrect labels -> use label smoothing\n",
    "Featureless nodes: use random numbers\n",
    "\n",
    "make a GCN that uses labels only, and one that takes an average of data form its neighbors as well\n",
    "Graph Attention Networks (GAT)\n",
    "\n",
    "Idea: could I use FL on the different car datasets, share those weights and perhaps it could generalize better. A practical use case would be between different companies, where they don't want to share their data\n",
    "but it is in their best interest to have the best performing cybersecurity model.\n",
    "\n",
    "https://pytorch-geometric.readthedocs.io/en/latest/generated/torch_geometric.explain.algorithm.GNNExplainer.html\n",
    "'''"
   ]
  },
  {
   "cell_type": "code",
   "execution_count": 27,
   "metadata": {},
   "outputs": [],
   "source": [
    "df['Node'] = df['CAN ID']\n",
    "df['Edge'] = df['CAN ID'].shift(-1)\n"
   ]
  },
  {
   "cell_type": "code",
   "execution_count": null,
   "metadata": {},
   "outputs": [],
   "source": [
    "# # Extract edge indices\n",
    "# edge_index = torch.tensor(df[['Node', 'Edge']].values.T,) # dtype=torch.long)\n",
    "\n",
    "# # Extract node features (assuming features are in columns 'feature1', 'feature2', ..., 'featureN')\n",
    "# node_features = torch.tensor(df[['Data1','Data2','Data3','Data4','Data5','Data6','Data7','Data8',]].values, dtype=torch.float)\n",
    "\n",
    "# # Create a Data object\n",
    "# data = Data(x=node_features, edge_index=edge_index)"
   ]
  },
  {
   "cell_type": "code",
   "execution_count": 34,
   "metadata": {},
   "outputs": [
    {
     "data": {
      "text/plain": [
       "label\n",
       "R    3259176\n",
       "T     491847\n",
       "Name: count, dtype: int64"
      ]
     },
     "execution_count": 34,
     "metadata": {},
     "output_type": "execute_result"
    }
   ],
   "source": [
    "df['label'].value_counts()"
   ]
  },
  {
   "cell_type": "code",
   "execution_count": 55,
   "metadata": {},
   "outputs": [],
   "source": [
    "graph = df[['Node', 'Edge', 'label']].copy(deep=True)\n",
    "color = {'R': 'blue',\n",
    "         'T': 'red'}\n",
    "graph['color'] = graph['label'].map(color)\n",
    "# graph = graph[:-1] # omit last row as it doesn't have an edge (or just make it a blank connection)\n",
    "# graph of the last 200 messages\n",
    "graph_200 = graph[500:700]# create window size\n",
    "graph_200_no200 = graph[1500:1700]     \n",
    "# graph_200 = graph[:-200] # create window size"
   ]
  },
  {
   "cell_type": "code",
   "execution_count": null,
   "metadata": {},
   "outputs": [
    {
     "data": {
      "text/plain": [
       "label\n",
       "R    3259176\n",
       "T     491847\n",
       "Name: count, dtype: int64"
      ]
     },
     "execution_count": 52,
     "metadata": {},
     "output_type": "execute_result"
    }
   ],
   "source": [
    "graph['label'].value_counts()"
   ]
  },
  {
   "cell_type": "code",
   "execution_count": 56,
   "metadata": {},
   "outputs": [
    {
     "data": {
      "text/html": [
       "<div>\n",
       "<style scoped>\n",
       "    .dataframe tbody tr th:only-of-type {\n",
       "        vertical-align: middle;\n",
       "    }\n",
       "\n",
       "    .dataframe tbody tr th {\n",
       "        vertical-align: top;\n",
       "    }\n",
       "\n",
       "    .dataframe thead th {\n",
       "        text-align: right;\n",
       "    }\n",
       "</style>\n",
       "<table border=\"1\" class=\"dataframe\">\n",
       "  <thead>\n",
       "    <tr style=\"text-align: right;\">\n",
       "      <th></th>\n",
       "      <th>Node</th>\n",
       "      <th>Edge</th>\n",
       "      <th>label</th>\n",
       "      <th>color</th>\n",
       "    </tr>\n",
       "  </thead>\n",
       "  <tbody>\n",
       "    <tr>\n",
       "      <th>500</th>\n",
       "      <td>043f</td>\n",
       "      <td>0440</td>\n",
       "      <td>R</td>\n",
       "      <td>blue</td>\n",
       "    </tr>\n",
       "    <tr>\n",
       "      <th>501</th>\n",
       "      <td>0440</td>\n",
       "      <td>0316</td>\n",
       "      <td>R</td>\n",
       "      <td>blue</td>\n",
       "    </tr>\n",
       "    <tr>\n",
       "      <th>502</th>\n",
       "      <td>0316</td>\n",
       "      <td>018f</td>\n",
       "      <td>R</td>\n",
       "      <td>blue</td>\n",
       "    </tr>\n",
       "    <tr>\n",
       "      <th>503</th>\n",
       "      <td>018f</td>\n",
       "      <td>0260</td>\n",
       "      <td>R</td>\n",
       "      <td>blue</td>\n",
       "    </tr>\n",
       "    <tr>\n",
       "      <th>504</th>\n",
       "      <td>0260</td>\n",
       "      <td>02a0</td>\n",
       "      <td>R</td>\n",
       "      <td>blue</td>\n",
       "    </tr>\n",
       "    <tr>\n",
       "      <th>...</th>\n",
       "      <td>...</td>\n",
       "      <td>...</td>\n",
       "      <td>...</td>\n",
       "      <td>...</td>\n",
       "    </tr>\n",
       "    <tr>\n",
       "      <th>695</th>\n",
       "      <td>0140</td>\n",
       "      <td>0440</td>\n",
       "      <td>R</td>\n",
       "      <td>blue</td>\n",
       "    </tr>\n",
       "    <tr>\n",
       "      <th>696</th>\n",
       "      <td>0440</td>\n",
       "      <td>0316</td>\n",
       "      <td>R</td>\n",
       "      <td>blue</td>\n",
       "    </tr>\n",
       "    <tr>\n",
       "      <th>697</th>\n",
       "      <td>0316</td>\n",
       "      <td>018f</td>\n",
       "      <td>R</td>\n",
       "      <td>blue</td>\n",
       "    </tr>\n",
       "    <tr>\n",
       "      <th>698</th>\n",
       "      <td>018f</td>\n",
       "      <td>0260</td>\n",
       "      <td>R</td>\n",
       "      <td>blue</td>\n",
       "    </tr>\n",
       "    <tr>\n",
       "      <th>699</th>\n",
       "      <td>0260</td>\n",
       "      <td>02a0</td>\n",
       "      <td>R</td>\n",
       "      <td>blue</td>\n",
       "    </tr>\n",
       "  </tbody>\n",
       "</table>\n",
       "<p>200 rows × 4 columns</p>\n",
       "</div>"
      ],
      "text/plain": [
       "     Node  Edge label color\n",
       "500  043f  0440     R  blue\n",
       "501  0440  0316     R  blue\n",
       "502  0316  018f     R  blue\n",
       "503  018f  0260     R  blue\n",
       "504  0260  02a0     R  blue\n",
       "..    ...   ...   ...   ...\n",
       "695  0140  0440     R  blue\n",
       "696  0440  0316     R  blue\n",
       "697  0316  018f     R  blue\n",
       "698  018f  0260     R  blue\n",
       "699  0260  02a0     R  blue\n",
       "\n",
       "[200 rows x 4 columns]"
      ]
     },
     "execution_count": 56,
     "metadata": {},
     "output_type": "execute_result"
    }
   ],
   "source": [
    "graph_200"
   ]
  },
  {
   "cell_type": "code",
   "execution_count": 57,
   "metadata": {},
   "outputs": [
    {
     "data": {
      "text/plain": [
       "label\n",
       "R    188\n",
       "Name: count, dtype: int64"
      ]
     },
     "execution_count": 57,
     "metadata": {},
     "output_type": "execute_result"
    }
   ],
   "source": [
    "graph_200['label'].value_counts()"
   ]
  },
  {
   "cell_type": "code",
   "execution_count": 58,
   "metadata": {},
   "outputs": [
    {
     "data": {
      "text/plain": [
       "label\n",
       "R    130\n",
       "T     56\n",
       "Name: count, dtype: int64"
      ]
     },
     "execution_count": 58,
     "metadata": {},
     "output_type": "execute_result"
    }
   ],
   "source": [
    "graph_200_no200['label'].value_counts()"
   ]
  },
  {
   "cell_type": "code",
   "execution_count": 16,
   "metadata": {},
   "outputs": [],
   "source": [
    "# maybe I could make weights based on the {node, edge} count in the window size\n",
    "\n",
    "G =  nx.DiGraph()\n",
    "for index, element in graph_200.iterrows():\n",
    "    G.add_edge(element['Node'], element['Edge'])\n"
   ]
  },
  {
   "cell_type": "code",
   "execution_count": 17,
   "metadata": {},
   "outputs": [
    {
     "name": "stderr",
     "output_type": "stream",
     "text": [
      "C:\\Users\\rober\\AppData\\Local\\Temp\\ipykernel_25632\\1834303822.py:4: MatplotlibDeprecationWarning: The get_cmap function was deprecated in Matplotlib 3.7 and will be removed in 3.11. Use ``matplotlib.colormaps[name]`` or ``matplotlib.colormaps.get_cmap()`` or ``pyplot.get_cmap()`` instead.\n",
      "  color_map = {label: plt.cm.get_cmap('Set1')(i/len(unique_labels)) for i, label in enumerate(unique_labels)}\n"
     ]
    }
   ],
   "source": [
    "# Create a color map\n",
    "df= graph_200\n",
    "unique_labels = df['label'].unique()\n",
    "color_map = {label: plt.cm.get_cmap('Set1')(i/len(unique_labels)) for i, label in enumerate(unique_labels)}\n",
    "# Create a dictionary mapping nodes to colors\n",
    "node_colors = df.set_index('Node')['label'].map(color_map).to_dict()"
   ]
  },
  {
   "cell_type": "code",
   "execution_count": null,
   "metadata": {},
   "outputs": [
    {
     "data": {
      "image/png": "[encoded data removed]",
      "text/plain": [
       "<Figure size 640x480 with 1 Axes>"
      ]
     },
     "metadata": {},
     "output_type": "display_data"
    }
   ],
   "source": [
    "layouts = {'spring' : nx.spring_layout(G, k=1),\n",
    "           'spiral': nx.spiral_layout(G),\n",
    "           'spectral': nx.spectral_layout(G),\n",
    "           'random': nx.random_layout(G),\n",
    "           'circle': nx.circular_layout(G),\n",
    "           }\n",
    "\n",
    "# node_color= [node_colors[node] for node in G.nodes()],\n",
    "nx.draw_networkx(G, pos=layouts['spring'], with_labels = True)\n",
    "plt.title(\"Fuzzy Network Graph of 200 Messages\")\n",
    "\n",
    "plt.show()"
   ]
  },
  {
   "cell_type": "code",
   "execution_count": null,
   "metadata": {},
   "outputs": [],
   "source": [
    "'''   \n",
    "- Turn the graph into a pytorch geometric dataset\n",
    "- simple training with a basic GNN\n",
    "'''"
   ]
  }
 ],
 "metadata": {
  "kernelspec": {
   "display_name": "graph",
   "language": "python",
   "name": "python3"
  },
  "language_info": {
   "codemirror_mode": {
    "name": "ipython",
    "version": 3
   },
   "file_extension": ".py",
   "mimetype": "text/x-python",
   "name": "python",
   "nbconvert_exporter": "python",
   "pygments_lexer": "ipython3",
   "version": "3.10.16"
  }
 },
 "nbformat": 4,
 "nbformat_minor": 2
}
