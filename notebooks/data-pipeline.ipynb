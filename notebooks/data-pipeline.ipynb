{
 "cells": [
  {
   "cell_type": "code",
   "execution_count": 1,
   "metadata": {},
   "outputs": [],
   "source": [
    "import numpy as np # Successfully installed numpy-1.23.5\n",
    "import pandas as pd # Successfully installed pandas-1.3.5\n",
    "import matplotlib.pyplot as plt\n",
    "import seaborn as sns\n",
    "import os\n",
    "import networkx as nx\n",
    "\n",
    "import torch\n",
    "import torch.nn.functional as F\n",
    "from torch_geometric.nn import GCNConv\n",
    "from torch_geometric.data import Dataset\n",
    "from torch_geometric.data import Data\n",
    "from torch_geometric.nn import global_mean_pool\n",
    "import sys\n",
    "from torch_geometric.nn import GATConv\n",
    "import torch.nn as nn\n",
    "from torch_geometric.loader import DataLoader\n",
    "from torch.utils.data import random_split\n",
    "\n",
    "# Add the parent directory to the system path\n",
    "# sys.path.append(os.path.abspath('..'))\n",
    "# from models import GNN\n",
    "# the temporal package is not available TODO: find what the issue is\n",
    "# from torch_geometric_temporal.nn.recurrent import A3TGCN2 # torch-geometric-temporal 0.54.0 requires pandas<=1.3.5, but you have pandas 2.2.3 which is incompatible.\n",
    "#from torch_geometric_temporal.signal import temporal_signal_split\n",
    "# import \n",
    "# Microsoft Visual C++ 14.0 or greater is required. Get it with \"Microsoft C++ Build Tools\": https://visualstudio.microsoft.com/visual-cpp-build-tools/\n",
    "# from stellargraph import StellarGraph\n",
    "# import custom functions from utils.py\n",
    "# from utils import *\n",
    "# os.getcwd() # double check current working directory"
   ]
  },
  {
   "cell_type": "code",
   "execution_count": 2,
   "metadata": {},
   "outputs": [],
   "source": [
    "# .. goes up one level in directory\n",
    "path = r'../datasets/Car-Hacking Dataset/Fuzzy_dataset.csv'\n",
    "path = r'../datasets/Car-Hacking Dataset/DoS_dataset.csv'\n",
    "path = r'../datasets/Car-Hacking Dataset/gear_dataset.csv'\n",
    "path = r'../datasets/Car-Hacking Dataset/RPM_dataset.csv'\n",
    "df = pd.read_csv(path)\n",
    "df.columns = ['Timestamp', 'CAN ID','DLC','Data1','Data2','Data3','Data4','Data5','Data6','Data7','Data8', 'label'] "
   ]
  },
  {
   "cell_type": "code",
   "execution_count": null,
   "metadata": {},
   "outputs": [],
   "source": [
    "'''\n",
    "What do I need to work on?\n",
    "- Combine all the datasets into one\n",
    "- change from binary to softmax classication\n",
    "- put train and test into a function instead of a notebook cell\n",
    "- create a GAT model in addition to the GCN\n",
    "\n",
    "\n",
    "'''"
   ]
  },
  {
   "cell_type": "code",
   "execution_count": 98,
   "metadata": {},
   "outputs": [
    {
     "data": {
      "text/plain": [
       "\"\\nTemporal graph dataset: a graph that changes over time\\nGraph type: Homogeneous graph\\nNodes: CAN ID\\nEdges: The next CAN ID in the sequence\\nNode Features (optional): The data in the CAN ID\\n\\nSteps:\\n1. identify node properties\\n2. Edges: How to connect nodes?\\n3. Extract labels\\n\\nConvert to pytorch geometric format\\nOne graph to another graph: 200 messages to 1 graph\\n\\nThere is also pytorch geometric temporal package\\n\\n# build a baseline model RF, SVM, etc\\n\\n# fraud datasets may have incorrect labels -> use label smoothing\\nFeatureless nodes: use random numbers\\n\\nmake a GCN that uses labels only, and one that takes an average of data form its neighbors as well\\nGraph Attention Networks (GAT)\\n\\nIdea: could I use FL on the different car datasets, share those weights and perhaps it could generalize better. A practical use case would be between different companies, where they don't want to share their data\\nbut it is in their best interest to have the best performing cybersecurity model.\\n\\nhttps://pytorch-geometric.readthedocs.io/en/latest/generated/torch_geometric.explain.algorithm.GNNExplainer.html\\n\""
      ]
     },
     "execution_count": 98,
     "metadata": {},
     "output_type": "execute_result"
    }
   ],
   "source": [
    "'''\n",
    "Temporal graph dataset: a graph that changes over time\n",
    "Graph type: Homogeneous graph\n",
    "Nodes: CAN ID\n",
    "Edges: The next CAN ID in the sequence\n",
    "Node Features (optional): The data in the CAN ID\n",
    "\n",
    "Steps:\n",
    "1. identify node properties\n",
    "2. Edges: How to connect nodes?\n",
    "3. Extract labels\n",
    "\n",
    "Convert to pytorch geometric format\n",
    "One graph to another graph: 200 messages to 1 graph\n",
    "\n",
    "There is also pytorch geometric temporal package\n",
    "\n",
    "# build a baseline model RF, SVM, etc\n",
    "\n",
    "# fraud datasets may have incorrect labels -> use label smoothing\n",
    "Featureless nodes: use random numbers\n",
    "\n",
    "make a GCN that uses labels only, and one that takes an average of data form its neighbors as well\n",
    "Graph Attention Networks (GAT)\n",
    "\n",
    "Idea: could I use FL on the different car datasets, share those weights and perhaps it could generalize better. A practical use case would be between different companies, where they don't want to share their data\n",
    "but it is in their best interest to have the best performing cybersecurity model.\n",
    "\n",
    "https://pytorch-geometric.readthedocs.io/en/latest/generated/torch_geometric.explain.algorithm.GNNExplainer.html\n",
    "'''"
   ]
  },
  {
   "cell_type": "code",
   "execution_count": 3,
   "metadata": {},
   "outputs": [],
   "source": [
    "def hex_to_decimal(x):\n",
    "    if x is None or x == 'None':\n",
    "        return None\n",
    "    try:\n",
    "        return int(x, 16)\n",
    "    except (ValueError, TypeError):\n",
    "        return x\n"
   ]
  },
  {
   "cell_type": "code",
   "execution_count": 5,
   "metadata": {},
   "outputs": [],
   "source": [
    "def dataset_creation(path):\n",
    "    df = pd.read_csv(path)\n",
    "    df.columns = ['Timestamp', 'CAN ID','DLC','Data1','Data2','Data3','Data4','Data5','Data6','Data7','Data8', 'label'] \n",
    "\n",
    "    df['Node'] = df['CAN ID']\n",
    "    df['Edge'] = df['CAN ID'].shift(-1)\n",
    "\n",
    "    df = df.apply(lambda x: x.apply(hex_to_decimal))\n",
    "\n",
    "    # Drop the last row\n",
    "    df = df.drop(df.index[-1])\n",
    "\n",
    "    # Drop rows where 'Data3' contains 'R'\n",
    "    # I need to make this more comprehensive\n",
    "    df_dropped = df[df['Data3'] != 'R']\n",
    "    df= df_dropped\n",
    "\n",
    "    # reencode the labels\n",
    "    df['label'] = df['label'].replace({'R': 0, 'T': 1})\n",
    "\n",
    "    # Replace NaN values with zero\n",
    "    df = df.fillna(0)\n",
    "\n",
    "    arr = df[['Node', 'Edge', 'label']].to_numpy(dtype=float)\n",
    "\n",
    "    return arr\n",
    "    "
   ]
  },
  {
   "cell_type": "code",
   "execution_count": 6,
   "metadata": {},
   "outputs": [
    {
     "name": "stderr",
     "output_type": "stream",
     "text": [
      "C:\\Users\\rober\\AppData\\Local\\Temp\\ipykernel_31348\\2247139891.py:19: FutureWarning: Downcasting behavior in `replace` is deprecated and will be removed in a future version. To retain the old behavior, explicitly call `result.infer_objects(copy=False)`. To opt-in to the future behavior, set `pd.set_option('future.no_silent_downcasting', True)`\n",
      "  df['label'] = df['label'].replace({'R': 0, 'T': 1})\n",
      "C:\\Users\\rober\\AppData\\Local\\Temp\\ipykernel_31348\\2247139891.py:22: FutureWarning: Downcasting object dtype arrays on .fillna, .ffill, .bfill is deprecated and will change in a future version. Call result.infer_objects(copy=False) instead. To opt-in to the future behavior, set `pd.set_option('future.no_silent_downcasting', True)`\n",
      "  df = df.fillna(0)\n"
     ]
    }
   ],
   "source": [
    "path = r'../datasets/Car-Hacking Dataset/Fuzzy_dataset.csv'\n",
    "arr_Fuzzy = dataset_creation(path)\n",
    "\n",
    "# path = r'../datasets/Car-Hacking Dataset/DoS_dataset.csv'\n",
    "# arr_DoS = dataset_creation(path)\n",
    "\n",
    "# path = r'../datasets/Car-Hacking Dataset/gear_dataset.csv'\n",
    "# arr_gear = dataset_creation(path)\n",
    "\n",
    "# path = r'../datasets/Car-Hacking Dataset/RPM_dataset.csv'\n",
    "# arr_RPM = dataset_creation(path)"
   ]
  },
  {
   "cell_type": "code",
   "execution_count": null,
   "metadata": {},
   "outputs": [],
   "source": [
    "'''\n",
    "FutureWarning: Downcasting behavior in `replace` is deprecated and will be removed in a future version. To retain the old behavior, explicitly call `result.infer_objects(copy=False)`. To opt-in to the future behavior, set `pd.set_option('future.no_silent_downcasting', True)`\n",
    "  df['label'] = df['label'].replace({'R': 0, 'T': 1})\n",
    "FutureWarning: Downcasting object dtype arrays on .fillna, .ffill, .bfill is deprecated and will change in a future version. Call result.infer_objects(copy=False) instead. To opt-in to the future behavior, set `pd.set_option('future.no_silent_downcasting', True)`\n",
    "  df = df.fillna(0)\n",
    "\n",
    "'''"
   ]
  },
  {
   "cell_type": "code",
   "execution_count": 103,
   "metadata": {},
   "outputs": [],
   "source": [
    "# import cProfile\n",
    "# import pstats\n",
    "# import io\n",
    "\n",
    "# # Profile the TimeSeriesGraphDataset creation\n",
    "# pr = cProfile.Profile()\n",
    "# pr.enable()\n",
    "\n",
    "# # Create the TimeSeriesGraphDataset\n",
    "# dataset = TimeSeriesGraphDataset(arr, window_size=50, stride=1)\n",
    "\n",
    "# pr.disable()\n",
    "# s = io.StringIO()\n",
    "# sortby = 'cumulative'\n",
    "# ps = pstats.Stats(pr, stream=s).sort_stats(sortby)\n",
    "# ps.print_stats()\n",
    "# print(s.getvalue())"
   ]
  },
  {
   "cell_type": "code",
   "execution_count": 106,
   "metadata": {},
   "outputs": [],
   "source": [
    "# # Identify rows where 'Data3' contains 'R'\n",
    "# mask = df['Data3'] == 'R'\n",
    "\n",
    "# # Pad these rows with zeros and add 'R' label at the end\n",
    "# df.loc[mask, :] = df.loc[mask, :].fillna(0)\n",
    "# df.loc[mask, 'label'] = 'R'"
   ]
  },
  {
   "cell_type": "code",
   "execution_count": 7,
   "metadata": {},
   "outputs": [],
   "source": [
    "# Function to pad rows with zeros and add 'R' label at the end\n",
    "def pad_row(row):\n",
    "    if row['Data3'] == 'R':\n",
    "        return pd.Series(np.append(row.fillna(0).values, 'R'))\n",
    "    return row\n",
    "\n",
    "# Apply the function to each row\n",
    "# df_padded = df.apply(pad_row, axis=1)\n",
    "\n",
    "# # Set pandas display option to show all rows\n",
    "# # pd.set_option('display.max_rows', None)\n",
    "\n",
    "# # Print the DataFrame\n",
    "# print(df_padded)"
   ]
  },
  {
   "cell_type": "code",
   "execution_count": 8,
   "metadata": {},
   "outputs": [],
   "source": [
    "class TimeSeriesGraphDataset(Dataset):\n",
    "    def __init__(self, time_series_data, window_size, stride, indices=None):\n",
    "        self.data = time_series_data\n",
    "        self.window_size = window_size\n",
    "        self.stride = stride\n",
    "        self.graphs = self._create_graphs()\n",
    "        # torch_geometric.data.Dataset expects _indicies to be defined\n",
    "        self._indices = indices if indices is not None else range(len(self.graphs))\n",
    "        self.transform = None\n",
    "        self.pre_transform = None\n",
    "\n",
    "    def _create_graphs(self):\n",
    "        graphs = []\n",
    "        for i in range(0, len(self.data) - self.window_size + 1, self.stride):\n",
    "            window = self.data[i:i+self.window_size]\n",
    "            graph = self.create_single_graph(window)\n",
    "            graphs.append(graph)\n",
    "        return graphs\n",
    "\n",
    "    def create_single_graph(self, window_data):\n",
    "        x = torch.tensor(window_data[:, 0:1], dtype=torch.float)\n",
    "        # call the edge index function here\n",
    "        edge_index = self._get_edge_index(window_data)\n",
    "        # last column are the labels\n",
    "        y = torch.tensor([1 if 1 in window_data[:, -1] else 0], dtype=torch.long)\n",
    "        return Data(x=x, edge_index=edge_index, y=y)\n",
    "    \n",
    "    def _get_edge_index(self, window_data: np.ndarray) -> torch.Tensor:\n",
    "        num_nodes = window_data.shape[0]\n",
    "        edge_index = torch.tensor([np.arange(num_nodes - 1), np.arange(1, num_nodes)], dtype=torch.long)\n",
    "        return edge_index \n",
    "\n",
    "    def len(self):\n",
    "        return len(self.graphs)\n",
    "\n",
    "    def get(self, idx):\n",
    "        return self.graphs[idx]"
   ]
  },
  {
   "cell_type": "code",
   "execution_count": 10,
   "metadata": {},
   "outputs": [],
   "source": [
    "def create_graphs(data, window_size, stride):\n",
    "    graphs = []\n",
    "    for i in range(0, len(data) - window_size + 1, stride):\n",
    "        window = data[i:i+window_size]\n",
    "        graph = create_single_graph(window)\n",
    "        graphs.append(graph)\n",
    "    return graphs\n",
    "\n",
    "def create_single_graph(window_data):\n",
    "        x = torch.tensor(window_data[:, 0:1], dtype=torch.float)\n",
    "        \n",
    "        edge_index = _get_edge_index(window_data) # call the edge index function here\n",
    "        \n",
    "        label = window_data[:, -1] # last column are the labels\n",
    "        y = torch.tensor([1 if np.any(label == 1) else 0], dtype=torch.long)\n",
    "        return Data(x=x, edge_index=edge_index, y=y)\n",
    "\n",
    "def _get_edge_index(window_data: np.ndarray) -> torch.Tensor:\n",
    "        num_nodes = window_data.shape[0]\n",
    "        edge_index = torch.tensor([np.arange(num_nodes - 1), np.arange(1, num_nodes)], dtype=torch.long)\n",
    "        return edge_index"
   ]
  },
  {
   "cell_type": "code",
   "execution_count": 11,
   "metadata": {},
   "outputs": [],
   "source": [
    "class GraphDataset(Dataset):\n",
    "    def __init__(self, data_list):\n",
    "        self.data_list = data_list\n",
    "\n",
    "    def __len__(self):\n",
    "        return len(self.data_list)\n",
    "\n",
    "    def __getitem__(self, idx):\n",
    "        return self.data_list[idx]"
   ]
  },
  {
   "cell_type": "code",
   "execution_count": 14,
   "metadata": {},
   "outputs": [
    {
     "data": {
      "text/plain": [
       "array([[ 688.,    2.,    0.],\n",
       "       [   2.,  339.,    0.],\n",
       "       [ 339.,  304.,    0.],\n",
       "       ...,\n",
       "       [ 608.,  672.,    0.],\n",
       "       [ 672.,  809.,    0.],\n",
       "       [ 809., 1349.,    0.]])"
      ]
     },
     "execution_count": 14,
     "metadata": {},
     "output_type": "execute_result"
    }
   ],
   "source": [
    "arr_Fuzzy"
   ]
  },
  {
   "cell_type": "code",
   "execution_count": 15,
   "metadata": {},
   "outputs": [
    {
     "name": "stderr",
     "output_type": "stream",
     "text": [
      "C:\\Users\\rober\\AppData\\Local\\Temp\\ipykernel_31348\\676219856.py:20: UserWarning: Creating a tensor from a list of numpy.ndarrays is extremely slow. Please consider converting the list to a single numpy.ndarray with numpy.array() before converting to a tensor. (Triggered internally at C:\\actions-runner\\_work\\pytorch\\pytorch\\pytorch\\torch\\csrc\\utils\\tensor_new.cpp:257.)\n",
      "  edge_index = torch.tensor([np.arange(num_nodes - 1), np.arange(1, num_nodes)], dtype=torch.long)\n"
     ]
    }
   ],
   "source": [
    "# Option 1: 2 Step process with functions and a simple GraphDataset class\n",
    "# arr = df.to_numpy(dtype=float)\n",
    "list_graphs_fuzzy = create_graphs(arr_Fuzzy, window_size=50, stride=50)\n",
    "\n",
    "# list_graphs_DoS = create_graphs(arr_DoS, window_size=50, stride=50)\n",
    "\n",
    "# list_graphs_gear = create_graphs(arr_gear, window_size=50, stride=50)\n",
    "\n",
    "# list_graphs_RPM = create_graphs(arr_RPM, window_size=50, stride=50)\n",
    "\n",
    "combined_list = list_graphs_fuzzy # + list_graphs_DoS + list_graphs_gear + list_graphs_RPM\n",
    "# Create the dataset\n",
    "dataset = GraphDataset(combined_list)"
   ]
  },
  {
   "cell_type": "code",
   "execution_count": 17,
   "metadata": {},
   "outputs": [
    {
     "data": {
      "text/plain": [
       "76089"
      ]
     },
     "execution_count": 17,
     "metadata": {},
     "output_type": "execute_result"
    }
   ],
   "source": [
    "len(list_graphs_fuzzy)"
   ]
  },
  {
   "cell_type": "code",
   "execution_count": 21,
   "metadata": {},
   "outputs": [
    {
     "data": {
      "text/plain": [
       "array([[ 688.,    2.,    0.],\n",
       "       [   2.,  339.,    0.],\n",
       "       [ 339.,  304.,    0.],\n",
       "       ...,\n",
       "       [ 608.,  672.,    0.],\n",
       "       [ 672.,  809.,    0.],\n",
       "       [ 809., 1349.,    0.]])"
      ]
     },
     "execution_count": 21,
     "metadata": {},
     "output_type": "execute_result"
    }
   ],
   "source": [
    "arr_Fuzzy"
   ]
  },
  {
   "cell_type": "code",
   "execution_count": 31,
   "metadata": {},
   "outputs": [
    {
     "data": {
      "text/plain": [
       "Data(x=[50, 1], edge_index=[2, 49], y=[1])"
      ]
     },
     "execution_count": 31,
     "metadata": {},
     "output_type": "execute_result"
    }
   ],
   "source": [
    "dataset[500]"
   ]
  },
  {
   "cell_type": "code",
   "execution_count": 24,
   "metadata": {},
   "outputs": [],
   "source": [
    "def visualize_graph(G, color):\n",
    "    plt.figure(figsize=(7,7))\n",
    "    plt.xticks([])\n",
    "    plt.yticks([])\n",
    "    nx.draw_networkx(G, pos=nx.spring_layout(G, seed=42), with_labels=False,\n",
    "                     node_color=color, cmap=\"Set2\")\n",
    "    plt.show()"
   ]
  },
  {
   "cell_type": "code",
   "execution_count": 33,
   "metadata": {},
   "outputs": [
    {
     "data": {
      "image/png": "[encoded data removed]",
      "text/plain": [
       "<Figure size 700x700 with 1 Axes>"
      ]
     },
     "metadata": {},
     "output_type": "display_data"
    }
   ],
   "source": [
    "from torch_geometric.utils import to_networkx\n",
    "\n",
    "G = to_networkx(dataset[300], to_undirected=True)\n",
    "visualize_graph(G, color='b')"
   ]
  },
  {
   "cell_type": "code",
   "execution_count": 28,
   "metadata": {},
   "outputs": [
    {
     "data": {
      "text/plain": [
       "tensor([0])"
      ]
     },
     "execution_count": 28,
     "metadata": {},
     "output_type": "execute_result"
    }
   ],
   "source": [
    "dataset[0].y"
   ]
  },
  {
   "cell_type": "code",
   "execution_count": null,
   "metadata": {},
   "outputs": [
    {
     "data": {
      "text/plain": [
       "<networkx.classes.graph.Graph at 0x272f759b070>"
      ]
     },
     "execution_count": 26,
     "metadata": {},
     "output_type": "execute_result"
    }
   ],
   "source": []
  },
  {
   "cell_type": "code",
   "execution_count": 18,
   "metadata": {},
   "outputs": [
    {
     "data": {
      "text/plain": [
       "GraphDataset(76089)"
      ]
     },
     "execution_count": 18,
     "metadata": {},
     "output_type": "execute_result"
    }
   ],
   "source": [
    "dataset"
   ]
  },
  {
   "cell_type": "code",
   "execution_count": 16,
   "metadata": {},
   "outputs": [],
   "source": [
    "# Option 2: Use the TimeSeriesGraphDataset class\n",
    "# Convert DataFrame to NumPy array with a specific data type\n",
    "\n",
    "dataset2 = TimeSeriesGraphDataset(arr, window_size=50, stride=50)"
   ]
  },
  {
   "cell_type": "code",
   "execution_count": 17,
   "metadata": {},
   "outputs": [
    {
     "data": {
      "text/plain": [
       "Data(x=[50, 1], edge_index=[2, 49], y=[1])"
      ]
     },
     "execution_count": 17,
     "metadata": {},
     "output_type": "execute_result"
    }
   ],
   "source": [
    "dataset2[0]"
   ]
  },
  {
   "cell_type": "code",
   "execution_count": 16,
   "metadata": {},
   "outputs": [
    {
     "data": {
      "text/plain": [
       "GraphDataset(91604)"
      ]
     },
     "execution_count": 16,
     "metadata": {},
     "output_type": "execute_result"
    }
   ],
   "source": [
    "dataset"
   ]
  },
  {
   "cell_type": "code",
   "execution_count": 18,
   "metadata": {},
   "outputs": [],
   "source": [
    "dataset2._indices\n",
    "dataset2.transform\n",
    "dataset2.pre_transform"
   ]
  },
  {
   "cell_type": "code",
   "execution_count": 21,
   "metadata": {},
   "outputs": [
    {
     "data": {
      "text/plain": [
       "91604"
      ]
     },
     "execution_count": 21,
     "metadata": {},
     "output_type": "execute_result"
    }
   ],
   "source": [
    "len(list_graphs)"
   ]
  },
  {
   "cell_type": "code",
   "execution_count": null,
   "metadata": {},
   "outputs": [
    {
     "name": "stderr",
     "output_type": "stream",
     "text": [
      "C:\\Users\\User1\\AppData\\Local\\Temp\\ipykernel_9012\\482898013.py:26: UserWarning: Creating a tensor from a list of numpy.ndarrays is extremely slow. Please consider converting the list to a single numpy.ndarray with numpy.array() before converting to a tensor. (Triggered internally at C:\\b\\abs_e1nmgx0bk6\\croot\\pytorch-select_1725478824526\\work\\torch\\csrc\\utils\\tensor_new.cpp:277.)\n",
      "  edge_index = torch.tensor([np.arange(num_nodes - 1), np.arange(1, num_nodes)], dtype=torch.long)\n"
     ]
    }
   ],
   "source": [
    "'''' From GitHub Copilot\n",
    "Key Attributes of the Data Class:\n",
    "x: Node feature matrix with shape [num_nodes, num_node_features]. Each row corresponds to the feature vector of a node.\n",
    "edge_index: Graph connectivity in COO format with shape [2, num_edges]. Each column represents an edge between two nodes.\n",
    "edge_attr (optional): Edge feature matrix with shape [num_edges, num_edge_features]. Each row corresponds to the feature vector of an edge.\n",
    "y (optional): Graph-level or node-level labels.\n",
    "pos (optional): Node position matrix with shape [num_nodes, num_dimensions]. Useful for visualization or spatial graphs.\n",
    "batch (optional): Batch vector, which assigns each node to a specific graph in a mini-batch.\n",
    "'''\n",
    "# label logic - if T in window then label is 1, else 0. Start simple and build out from there\n",
    "# x = [# nodes, # features], for my case [200, 10]\n",
    "# edge_index = [2, # edges], for my case [2, 199]\n",
    "# y = [# nodes, # labels], for my case [200, 1]\n",
    "# arr = df[['CAN ID', 'Node', 'Edge']].to_numpy()\n",
    "# maybe a stride of 25 to speed up the process?? At least to start\n",
    "# stride of 1 was over 10 GBs, so will increase to 25\n",
    "\n"
   ]
  },
  {
   "cell_type": "code",
   "execution_count": 25,
   "metadata": {},
   "outputs": [
    {
     "name": "stdout",
     "output_type": "stream",
     "text": [
      "Label counts: Counter({0: 201925, 1: 126518})\n"
     ]
    }
   ],
   "source": [
    "from collections import Counter\n",
    "\n",
    "# Count the occurrences of each label\n",
    "label_counts = Counter()\n",
    "for data in dataset:\n",
    "    label = data.y.item()\n",
    "    label_counts[label] += 1\n",
    "\n",
    "print(\"Label counts:\", label_counts)"
   ]
  },
  {
   "cell_type": "code",
   "execution_count": 24,
   "metadata": {},
   "outputs": [],
   "source": [
    "def train(model, optimizer, train_loader, device):\n",
    "    model.train()\n",
    "    for data in train_loader:\n",
    "        data = data.to(device)\n",
    "        optimizer.zero_grad()\n",
    "        out = model(data).squeeze()  # Squeeze the output to match the target shape\n",
    "        loss = F.binary_cross_entropy_with_logits(out, data.y.float())\n",
    "        loss.backward()\n",
    "        optimizer.step()\n",
    "\n",
    "def test(loader, model, device):\n",
    "    model.eval()\n",
    "    correct = 0\n",
    "    with torch.no_grad():\n",
    "        for data in loader:\n",
    "            data = data.to(device)\n",
    "            out = model(data).squeeze()  # Squeeze the output to match the target shape\n",
    "            # print(out)\n",
    "            pred = (out > 0).long()\n",
    "            correct += (pred == data.y).sum().item()\n",
    "    return correct / len(loader.dataset)"
   ]
  },
  {
   "cell_type": "code",
   "execution_count": null,
   "metadata": {},
   "outputs": [
    {
     "name": "stdout",
     "output_type": "stream",
     "text": [
      "Epoch 1, Loss: 0.6784517168998718\n",
      "Epoch 2, Loss: 0.6388965249061584\n"
     ]
    }
   ],
   "source": [
    "\n",
    "class GATBinaryClassifier(torch.nn.Module):\n",
    "    def __init__(self, in_channels, hidden_channels, num_heads, out_channels):\n",
    "        super(GATBinaryClassifier, self).__init__()\n",
    "        self.conv1 = GATConv(in_channels, hidden_channels, heads=num_heads)\n",
    "        self.conv2 = GATConv(hidden_channels * num_heads, hidden_channels, heads=1)\n",
    "        self.fc = torch.nn.Linear(hidden_channels, out_channels)\n",
    "\n",
    "    def forward(self, data):\n",
    "        x, edge_index, batch = data.x, data.edge_index, data.batch\n",
    "        x = self.conv1(x, edge_index)\n",
    "        x = F.elu(x)\n",
    "        x = self.conv2(x, edge_index) # + x  # Skip connection\n",
    "        x = global_mean_pool(x, batch)  # Readout layer\n",
    "        x = self.fc(x)\n",
    "        return x  # Classification layer\n",
    "    \n",
    "class GNN(torch.nn.Module):\n",
    "    def __init__(self, in_channels, hidden_channels, out_channels):\n",
    "        super(GNN, self).__init__()\n",
    "        self.conv1 = GCNConv(in_channels, hidden_channels)\n",
    "        # GAT(in_channels, hidden_channels)\n",
    "        self.conv2 = GCNConv(hidden_channels, hidden_channels)\n",
    "        self.fc = torch.nn.Linear(hidden_channels, out_channels)\n",
    "\n",
    "    def forward(self, data):\n",
    "        x, edge_index, batch = data.x, data.edge_index, data.batch\n",
    "        x = self.conv1(x, edge_index)\n",
    "        x = F.relu(x)\n",
    "        x = self.conv2(x, edge_index)\n",
    "        x = global_mean_pool(x, batch)  # Global mean pooling\n",
    "        x = self.fc(x)\n",
    "        return x\n",
    "\n",
    "num_epochs = 2\n",
    "dataset = dataset2\n",
    "# dataset = dataset\n",
    "# Define the split ratio\n",
    "train_ratio = 0.8\n",
    "test_ratio = 0.2\n",
    "\n",
    "# Calculate the number of samples for training and testing\n",
    "# Split the dataset into training and test sets\n",
    "train_size = int(0.8 * len(dataset))\n",
    "test_size = len(dataset) - train_size\n",
    "train_dataset, test_dataset = random_split(dataset, [train_size, test_size])\n",
    "\n",
    "# Create DataLoaders\n",
    "train_loader = DataLoader(train_dataset, batch_size=32, shuffle=True)\n",
    "test_loader = DataLoader(test_dataset, batch_size=32, shuffle=False)\n",
    "\n",
    "# model = AnomalyGNN(num_node_features=50, hidden_channels=64)\n",
    "device = torch.device('cuda' if torch.cuda.is_available() else 'cpu')\n",
    "device = torch.device('cpu')\n",
    "model = GNN(in_channels=1, hidden_channels=16, out_channels=1).to(device)\n",
    "optimizer = torch.optim.Adam(model.parameters(), lr=0.0005)\n",
    "criterion = nn.BCEWithLogitsLoss()\n",
    "\n",
    "for epoch in range(num_epochs):\n",
    "    for batch in train_loader:\n",
    "        optimizer.zero_grad()\n",
    "        out = model(batch).squeeze() \n",
    "        # print(out)\n",
    "        # print(batch.y)\n",
    "        loss = F.binary_cross_entropy_with_logits(out, batch.y.float())\n",
    "        # loss = criterion(out, batch.y)\n",
    "        loss.backward()\n",
    "        optimizer.step()\n",
    "    \n",
    "    print(f'Epoch {epoch+1}, Loss: {loss.item()}')\n",
    "        \n",
    "\n",
    "# RPM took 40 mins for 100 epochs. LR of 0.001 works much better than 0.01\n",
    "# gear took 58 mins for 100 epochs. LR of 0.0005\n",
    "# DoS took 40ish mins for 100 epochs. LR of 0.0005\n",
    "# Fuzzy took 31ish mins for 100 epochs. LR of 0.0005"
   ]
  },
  {
   "cell_type": "code",
   "execution_count": 25,
   "metadata": {},
   "outputs": [
    {
     "name": "stdout",
     "output_type": "stream",
     "text": [
      "Train Accuracy: 0.5495, Test Accuracy: 0.5513\n"
     ]
    }
   ],
   "source": [
    "train_acc = test(train_loader, model, device)\n",
    "test_acc = test(test_loader, model, device)\n",
    "print(f'Train Accuracy: {train_acc:.4f}, Test Accuracy: {test_acc:.4f}')"
   ]
  },
  {
   "cell_type": "code",
   "execution_count": null,
   "metadata": {},
   "outputs": [],
   "source": [
    "#from torchviz import make_dot\n",
    "# x = torch.randn(1, 3, 224, 224)\n",
    "# y = model(x)\n",
    "# make_dot(y, params=dict(model.named_parameters())).render(\"model_architecture\", format=\"png\")"
   ]
  },
  {
   "cell_type": "code",
   "execution_count": null,
   "metadata": {},
   "outputs": [
    {
     "name": "stdout",
     "output_type": "stream",
     "text": [
      "Model size: 0.001 MB\n"
     ]
    }
   ],
   "source": [
    "def model_characteristics(model):\n",
    "    num_params = sum(p.numel() for p in model.parameters())\n",
    "    param_size = 0\n",
    "    for param in model.parameters():\n",
    "        param_size += param.nelement() * param.element_size()\n",
    "    buffer_size = 0\n",
    "    for buffer in model.buffers():\n",
    "        buffer_size += buffer.nelement() * buffer.element_size()\n",
    "    size_all_mb = (param_size + buffer_size) / 1024**2\n",
    "    print(f'Number of Parameters: {num_params:.3f}')\n",
    "    print(f'Model size: {size_all_mb:.3f} MB')"
   ]
  },
  {
   "cell_type": "code",
   "execution_count": 160,
   "metadata": {},
   "outputs": [],
   "source": [
    "save_dict = {\n",
    "    'model_state_dict': model.state_dict(),\n",
    "    'optimizer_state_dict': optimizer.state_dict(),\n",
    "    'epoch': epoch,\n",
    "    'loss': loss,\n",
    "}\n",
    "\n",
    "torch.save(save_dict, 'Fuzzy_model_checkpoint.pt')"
   ]
  },
  {
   "cell_type": "code",
   "execution_count": null,
   "metadata": {},
   "outputs": [],
   "source": [
    "loaded_dict = torch.load('model_checkpoint.pt')\n",
    "\n",
    "model.load_state_dict(loaded_dict['model_state_dict'])\n",
    "optimizer.load_state_dict(loaded_dict['optimizer_state_dict'])\n",
    "epoch = loaded_dict['epoch']\n",
    "loss = loaded_dict['loss']"
   ]
  }
 ],
 "metadata": {
  "kernelspec": {
   "display_name": "graph",
   "language": "python",
   "name": "python3"
  },
  "language_info": {
   "codemirror_mode": {
    "name": "ipython",
    "version": 3
   },
   "file_extension": ".py",
   "mimetype": "text/x-python",
   "name": "python",
   "nbconvert_exporter": "python",
   "pygments_lexer": "ipython3",
   "version": "3.10.16"
  }
 },
 "nbformat": 4,
 "nbformat_minor": 2
}
