{
 "cells": [
  {
   "cell_type": "code",
   "execution_count": 1,
   "metadata": {},
   "outputs": [],
   "source": [
    "import numpy as np # Successfully installed numpy-1.23.5\n",
    "import pandas as pd # Successfully installed pandas-1.3.5\n",
    "import matplotlib.pyplot as plt\n",
    "import seaborn as sns\n",
    "import os\n",
    "import networkx as nx\n"
   ]
  },
  {
   "cell_type": "code",
   "execution_count": null,
   "metadata": {},
   "outputs": [],
   "source": [
    "# .. goes up one level in directory\n",
    "path = r'../datasets/Car-Hacking Dataset/Fuzzy_dataset.csv'\n",
    "path = r'../datasets/Car-Hacking Dataset/DoS_dataset.csv'\n",
    "path = r'../datasets/Car-Hacking Dataset/gear_dataset.csv'\n",
    "path = r'../datasets/Car-Hacking Dataset/RPM_dataset.csv'\n",
    "df = pd.read_csv(path)\n",
    "df.columns = ['Timestamp', 'CAN ID','DLC','Data1','Data2','Data3','Data4','Data5','Data6','Data7','Data8', 'label'] "
   ]
  },
  {
   "cell_type": "code",
   "execution_count": null,
   "metadata": {},
   "outputs": [],
   "source": [
    "df['Node'] = df['CAN ID']\n",
    "df['Edge'] = df['CAN ID'].shift(-1)\n"
   ]
  },
  {
   "cell_type": "code",
   "execution_count": null,
   "metadata": {},
   "outputs": [],
   "source": [
    "graph = df[['Node', 'Edge', 'label']].copy(deep=True)\n",
    "color = {'R': 'blue',\n",
    "         'NaN': 'blue',\n",
    "         'T': 'red'}\n",
    "graph['color'] = graph['label'].map(color)\n",
    "# graph = graph[:-1] # omit last row as it doesn't have an edge (or just make it a blank connection)\n",
    "# graph of the last 200 messages\n",
    "graph_200 = graph[500:700]# create window size\n",
    "#graph_200 = graph[1500:1700]\n",
    "#graph_200 = graph[1450:1650]\n",
    "# graph_200 = graph[2100:2300]\n",
    "graph_200 = graph[1700:1900]\n",
    "graph_200['color'] = graph_200['color'].fillna('blue')   \n",
    "# graph_200 = graph[:-200] # create window size"
   ]
  },
  {
   "cell_type": "code",
   "execution_count": null,
   "metadata": {},
   "outputs": [],
   "source": [
    "graph['label'].value_counts()\n",
    "graph_200['label'].value_counts()"
   ]
  },
  {
   "cell_type": "code",
   "execution_count": null,
   "metadata": {},
   "outputs": [],
   "source": [
    "label_colors = dict(zip(graph_200['Node'], graph_200['color']))"
   ]
  },
  {
   "cell_type": "code",
   "execution_count": null,
   "metadata": {},
   "outputs": [],
   "source": [
    "G =  nx.DiGraph()\n",
    "for index, element in graph_200.iterrows():\n",
    "    G.add_edge(element['Node'], element['Edge'])\n",
    "\n",
    "layouts = {'spring' : nx.spring_layout(G, k=1),\n",
    "           'spiral': nx.spiral_layout(G),\n",
    "           'spectral': nx.spectral_layout(G),\n",
    "           'random': nx.random_layout(G),\n",
    "           'circle': nx.circular_layout(G),\n",
    "           }\n",
    "\n",
    "\n",
    "nx.draw_networkx(G, pos=layouts['spring'], with_labels = True, node_color= label_colors.values())\n",
    "plt.title(\"RPM Network Graph of 200 Messages: Attack Present\")\n",
    "\n",
    "plt.show()"
   ]
  }
 ],
 "metadata": {
  "kernelspec": {
   "display_name": "dfl",
   "language": "python",
   "name": "python3"
  },
  "language_info": {
   "codemirror_mode": {
    "name": "ipython",
    "version": 3
   },
   "file_extension": ".py",
   "mimetype": "text/x-python",
   "name": "python",
   "nbconvert_exporter": "python",
   "pygments_lexer": "ipython3",
   "version": "3.10.15"
  }
 },
 "nbformat": 4,
 "nbformat_minor": 2
}
